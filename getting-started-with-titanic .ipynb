{
 "cells": [
  {
   "cell_type": "code",
   "execution_count": 76,
   "metadata": {
    "_cell_guid": "b1076dfc-b9ad-4769-8c92-a6c4dae69d19",
    "_uuid": "8f2839f25d086af736a60e9eeb907d3b93b6e0e5",
    "execution": {
     "iopub.execute_input": "2021-06-03T22:51:42.021481Z",
     "iopub.status.busy": "2021-06-03T22:51:42.020864Z",
     "iopub.status.idle": "2021-06-03T22:51:42.032109Z",
     "shell.execute_reply": "2021-06-03T22:51:42.030973Z",
     "shell.execute_reply.started": "2021-06-03T22:51:42.021430Z"
    }
   },
   "outputs": [],
   "source": [
    "# This Python 3 environment comes with many helpful analytics libraries installed\n",
    "# It is defined by the kaggle/python Docker image: https://github.com/kaggle/docker-python\n",
    "# For example, here's several helpful packages to load\n",
    "\n",
    "import numpy as np # linear algebra\n",
    "import pandas as pd # data processing, CSV file I/O (e.g. pd.read_csv)\n",
    "\n",
    "# Input data files are available in the read-only \"../input/\" directory\n",
    "# For example, running this (by clicking run or pressing Shift+Enter) will list all files under the input directory\n",
    "\n",
    "import os\n",
    "for dirname, _, filenames in os.walk('/kaggle/input'):\n",
    "    for filename in filenames:\n",
    "        print(os.path.join(dirname, filename))\n",
    "\n",
    "# You can write up to 20GB to the current directory (/kaggle/working/) that gets preserved as output when you create a version using \"Save & Run All\" \n",
    "# You can also write temporary files to /kaggle/temp/, but they won't be saved outside of the current session"
   ]
  },
  {
   "cell_type": "code",
   "execution_count": 77,
   "metadata": {
    "execution": {
     "iopub.execute_input": "2021-06-03T22:51:42.034652Z",
     "iopub.status.busy": "2021-06-03T22:51:42.033930Z",
     "iopub.status.idle": "2021-06-03T22:51:42.068370Z",
     "shell.execute_reply": "2021-06-03T22:51:42.067301Z",
     "shell.execute_reply.started": "2021-06-03T22:51:42.034602Z"
    }
   },
   "outputs": [
    {
     "data": {
      "text/html": [
       "<div>\n",
       "<style scoped>\n",
       "    .dataframe tbody tr th:only-of-type {\n",
       "        vertical-align: middle;\n",
       "    }\n",
       "\n",
       "    .dataframe tbody tr th {\n",
       "        vertical-align: top;\n",
       "    }\n",
       "\n",
       "    .dataframe thead th {\n",
       "        text-align: right;\n",
       "    }\n",
       "</style>\n",
       "<table border=\"1\" class=\"dataframe\">\n",
       "  <thead>\n",
       "    <tr style=\"text-align: right;\">\n",
       "      <th></th>\n",
       "      <th>PassengerId</th>\n",
       "      <th>Survived</th>\n",
       "      <th>Pclass</th>\n",
       "      <th>Name</th>\n",
       "      <th>Sex</th>\n",
       "      <th>Age</th>\n",
       "      <th>SibSp</th>\n",
       "      <th>Parch</th>\n",
       "      <th>Ticket</th>\n",
       "      <th>Fare</th>\n",
       "      <th>Cabin</th>\n",
       "      <th>Embarked</th>\n",
       "    </tr>\n",
       "  </thead>\n",
       "  <tbody>\n",
       "    <tr>\n",
       "      <th>0</th>\n",
       "      <td>1</td>\n",
       "      <td>0</td>\n",
       "      <td>3</td>\n",
       "      <td>Braund, Mr. Owen Harris</td>\n",
       "      <td>male</td>\n",
       "      <td>22.0</td>\n",
       "      <td>1</td>\n",
       "      <td>0</td>\n",
       "      <td>A/5 21171</td>\n",
       "      <td>7.2500</td>\n",
       "      <td>NaN</td>\n",
       "      <td>S</td>\n",
       "    </tr>\n",
       "    <tr>\n",
       "      <th>1</th>\n",
       "      <td>2</td>\n",
       "      <td>1</td>\n",
       "      <td>1</td>\n",
       "      <td>Cumings, Mrs. John Bradley (Florence Briggs Th...</td>\n",
       "      <td>female</td>\n",
       "      <td>38.0</td>\n",
       "      <td>1</td>\n",
       "      <td>0</td>\n",
       "      <td>PC 17599</td>\n",
       "      <td>71.2833</td>\n",
       "      <td>C85</td>\n",
       "      <td>C</td>\n",
       "    </tr>\n",
       "    <tr>\n",
       "      <th>2</th>\n",
       "      <td>3</td>\n",
       "      <td>1</td>\n",
       "      <td>3</td>\n",
       "      <td>Heikkinen, Miss. Laina</td>\n",
       "      <td>female</td>\n",
       "      <td>26.0</td>\n",
       "      <td>0</td>\n",
       "      <td>0</td>\n",
       "      <td>STON/O2. 3101282</td>\n",
       "      <td>7.9250</td>\n",
       "      <td>NaN</td>\n",
       "      <td>S</td>\n",
       "    </tr>\n",
       "    <tr>\n",
       "      <th>3</th>\n",
       "      <td>4</td>\n",
       "      <td>1</td>\n",
       "      <td>1</td>\n",
       "      <td>Futrelle, Mrs. Jacques Heath (Lily May Peel)</td>\n",
       "      <td>female</td>\n",
       "      <td>35.0</td>\n",
       "      <td>1</td>\n",
       "      <td>0</td>\n",
       "      <td>113803</td>\n",
       "      <td>53.1000</td>\n",
       "      <td>C123</td>\n",
       "      <td>S</td>\n",
       "    </tr>\n",
       "    <tr>\n",
       "      <th>4</th>\n",
       "      <td>5</td>\n",
       "      <td>0</td>\n",
       "      <td>3</td>\n",
       "      <td>Allen, Mr. William Henry</td>\n",
       "      <td>male</td>\n",
       "      <td>35.0</td>\n",
       "      <td>0</td>\n",
       "      <td>0</td>\n",
       "      <td>373450</td>\n",
       "      <td>8.0500</td>\n",
       "      <td>NaN</td>\n",
       "      <td>S</td>\n",
       "    </tr>\n",
       "  </tbody>\n",
       "</table>\n",
       "</div>"
      ],
      "text/plain": [
       "   PassengerId  Survived  Pclass  \\\n",
       "0            1         0       3   \n",
       "1            2         1       1   \n",
       "2            3         1       3   \n",
       "3            4         1       1   \n",
       "4            5         0       3   \n",
       "\n",
       "                                                Name     Sex   Age  SibSp  \\\n",
       "0                            Braund, Mr. Owen Harris    male  22.0      1   \n",
       "1  Cumings, Mrs. John Bradley (Florence Briggs Th...  female  38.0      1   \n",
       "2                             Heikkinen, Miss. Laina  female  26.0      0   \n",
       "3       Futrelle, Mrs. Jacques Heath (Lily May Peel)  female  35.0      1   \n",
       "4                           Allen, Mr. William Henry    male  35.0      0   \n",
       "\n",
       "   Parch            Ticket     Fare Cabin Embarked  \n",
       "0      0         A/5 21171   7.2500   NaN        S  \n",
       "1      0          PC 17599  71.2833   C85        C  \n",
       "2      0  STON/O2. 3101282   7.9250   NaN        S  \n",
       "3      0            113803  53.1000  C123        S  \n",
       "4      0            373450   8.0500   NaN        S  "
      ]
     },
     "execution_count": 77,
     "metadata": {},
     "output_type": "execute_result"
    }
   ],
   "source": [
    "train_data = pd.read_csv('./train.csv')\n",
    "train_data.head()"
   ]
  },
  {
   "cell_type": "code",
   "execution_count": 78,
   "metadata": {
    "execution": {
     "iopub.execute_input": "2021-06-03T22:51:42.070905Z",
     "iopub.status.busy": "2021-06-03T22:51:42.070284Z",
     "iopub.status.idle": "2021-06-03T22:51:42.088471Z",
     "shell.execute_reply": "2021-06-03T22:51:42.087368Z",
     "shell.execute_reply.started": "2021-06-03T22:51:42.070848Z"
    }
   },
   "outputs": [
    {
     "name": "stdout",
     "output_type": "stream",
     "text": [
      "<class 'pandas.core.frame.DataFrame'>\n",
      "RangeIndex: 891 entries, 0 to 890\n",
      "Data columns (total 12 columns):\n",
      " #   Column       Non-Null Count  Dtype  \n",
      "---  ------       --------------  -----  \n",
      " 0   PassengerId  891 non-null    int64  \n",
      " 1   Survived     891 non-null    int64  \n",
      " 2   Pclass       891 non-null    int64  \n",
      " 3   Name         891 non-null    object \n",
      " 4   Sex          891 non-null    object \n",
      " 5   Age          714 non-null    float64\n",
      " 6   SibSp        891 non-null    int64  \n",
      " 7   Parch        891 non-null    int64  \n",
      " 8   Ticket       891 non-null    object \n",
      " 9   Fare         891 non-null    float64\n",
      " 10  Cabin        204 non-null    object \n",
      " 11  Embarked     889 non-null    object \n",
      "dtypes: float64(2), int64(5), object(5)\n",
      "memory usage: 83.7+ KB\n"
     ]
    }
   ],
   "source": [
    "train_data.info()"
   ]
  },
  {
   "cell_type": "code",
   "execution_count": 79,
   "metadata": {
    "execution": {
     "iopub.execute_input": "2021-06-03T22:51:42.090794Z",
     "iopub.status.busy": "2021-06-03T22:51:42.090160Z",
     "iopub.status.idle": "2021-06-03T22:51:42.124729Z",
     "shell.execute_reply": "2021-06-03T22:51:42.123608Z",
     "shell.execute_reply.started": "2021-06-03T22:51:42.090742Z"
    }
   },
   "outputs": [
    {
     "data": {
      "text/html": [
       "<div>\n",
       "<style scoped>\n",
       "    .dataframe tbody tr th:only-of-type {\n",
       "        vertical-align: middle;\n",
       "    }\n",
       "\n",
       "    .dataframe tbody tr th {\n",
       "        vertical-align: top;\n",
       "    }\n",
       "\n",
       "    .dataframe thead th {\n",
       "        text-align: right;\n",
       "    }\n",
       "</style>\n",
       "<table border=\"1\" class=\"dataframe\">\n",
       "  <thead>\n",
       "    <tr style=\"text-align: right;\">\n",
       "      <th></th>\n",
       "      <th>PassengerId</th>\n",
       "      <th>Pclass</th>\n",
       "      <th>Name</th>\n",
       "      <th>Sex</th>\n",
       "      <th>Age</th>\n",
       "      <th>SibSp</th>\n",
       "      <th>Parch</th>\n",
       "      <th>Ticket</th>\n",
       "      <th>Fare</th>\n",
       "      <th>Cabin</th>\n",
       "      <th>Embarked</th>\n",
       "    </tr>\n",
       "  </thead>\n",
       "  <tbody>\n",
       "    <tr>\n",
       "      <th>0</th>\n",
       "      <td>892</td>\n",
       "      <td>3</td>\n",
       "      <td>Kelly, Mr. James</td>\n",
       "      <td>male</td>\n",
       "      <td>34.5</td>\n",
       "      <td>0</td>\n",
       "      <td>0</td>\n",
       "      <td>330911</td>\n",
       "      <td>7.8292</td>\n",
       "      <td>NaN</td>\n",
       "      <td>Q</td>\n",
       "    </tr>\n",
       "    <tr>\n",
       "      <th>1</th>\n",
       "      <td>893</td>\n",
       "      <td>3</td>\n",
       "      <td>Wilkes, Mrs. James (Ellen Needs)</td>\n",
       "      <td>female</td>\n",
       "      <td>47.0</td>\n",
       "      <td>1</td>\n",
       "      <td>0</td>\n",
       "      <td>363272</td>\n",
       "      <td>7.0000</td>\n",
       "      <td>NaN</td>\n",
       "      <td>S</td>\n",
       "    </tr>\n",
       "    <tr>\n",
       "      <th>2</th>\n",
       "      <td>894</td>\n",
       "      <td>2</td>\n",
       "      <td>Myles, Mr. Thomas Francis</td>\n",
       "      <td>male</td>\n",
       "      <td>62.0</td>\n",
       "      <td>0</td>\n",
       "      <td>0</td>\n",
       "      <td>240276</td>\n",
       "      <td>9.6875</td>\n",
       "      <td>NaN</td>\n",
       "      <td>Q</td>\n",
       "    </tr>\n",
       "    <tr>\n",
       "      <th>3</th>\n",
       "      <td>895</td>\n",
       "      <td>3</td>\n",
       "      <td>Wirz, Mr. Albert</td>\n",
       "      <td>male</td>\n",
       "      <td>27.0</td>\n",
       "      <td>0</td>\n",
       "      <td>0</td>\n",
       "      <td>315154</td>\n",
       "      <td>8.6625</td>\n",
       "      <td>NaN</td>\n",
       "      <td>S</td>\n",
       "    </tr>\n",
       "    <tr>\n",
       "      <th>4</th>\n",
       "      <td>896</td>\n",
       "      <td>3</td>\n",
       "      <td>Hirvonen, Mrs. Alexander (Helga E Lindqvist)</td>\n",
       "      <td>female</td>\n",
       "      <td>22.0</td>\n",
       "      <td>1</td>\n",
       "      <td>1</td>\n",
       "      <td>3101298</td>\n",
       "      <td>12.2875</td>\n",
       "      <td>NaN</td>\n",
       "      <td>S</td>\n",
       "    </tr>\n",
       "  </tbody>\n",
       "</table>\n",
       "</div>"
      ],
      "text/plain": [
       "   PassengerId  Pclass                                          Name     Sex  \\\n",
       "0          892       3                              Kelly, Mr. James    male   \n",
       "1          893       3              Wilkes, Mrs. James (Ellen Needs)  female   \n",
       "2          894       2                     Myles, Mr. Thomas Francis    male   \n",
       "3          895       3                              Wirz, Mr. Albert    male   \n",
       "4          896       3  Hirvonen, Mrs. Alexander (Helga E Lindqvist)  female   \n",
       "\n",
       "    Age  SibSp  Parch   Ticket     Fare Cabin Embarked  \n",
       "0  34.5      0      0   330911   7.8292   NaN        Q  \n",
       "1  47.0      1      0   363272   7.0000   NaN        S  \n",
       "2  62.0      0      0   240276   9.6875   NaN        Q  \n",
       "3  27.0      0      0   315154   8.6625   NaN        S  \n",
       "4  22.0      1      1  3101298  12.2875   NaN        S  "
      ]
     },
     "execution_count": 79,
     "metadata": {},
     "output_type": "execute_result"
    }
   ],
   "source": [
    "test_data = pd.read_csv(\"./test.csv\")\n",
    "test_data.head()"
   ]
  },
  {
   "cell_type": "code",
   "execution_count": 80,
   "metadata": {
    "execution": {
     "iopub.execute_input": "2021-06-03T22:51:42.126407Z",
     "iopub.status.busy": "2021-06-03T22:51:42.126082Z",
     "iopub.status.idle": "2021-06-03T22:51:42.142158Z",
     "shell.execute_reply": "2021-06-03T22:51:42.141193Z",
     "shell.execute_reply.started": "2021-06-03T22:51:42.126373Z"
    }
   },
   "outputs": [
    {
     "name": "stdout",
     "output_type": "stream",
     "text": [
      "<class 'pandas.core.frame.DataFrame'>\n",
      "RangeIndex: 418 entries, 0 to 417\n",
      "Data columns (total 11 columns):\n",
      " #   Column       Non-Null Count  Dtype  \n",
      "---  ------       --------------  -----  \n",
      " 0   PassengerId  418 non-null    int64  \n",
      " 1   Pclass       418 non-null    int64  \n",
      " 2   Name         418 non-null    object \n",
      " 3   Sex          418 non-null    object \n",
      " 4   Age          332 non-null    float64\n",
      " 5   SibSp        418 non-null    int64  \n",
      " 6   Parch        418 non-null    int64  \n",
      " 7   Ticket       418 non-null    object \n",
      " 8   Fare         417 non-null    float64\n",
      " 9   Cabin        91 non-null     object \n",
      " 10  Embarked     418 non-null    object \n",
      "dtypes: float64(2), int64(4), object(5)\n",
      "memory usage: 36.0+ KB\n"
     ]
    }
   ],
   "source": [
    "test_data.info()"
   ]
  },
  {
   "cell_type": "markdown",
   "metadata": {},
   "source": [
    "# Determine the Baseline:\n"
   ]
  },
  {
   "cell_type": "code",
   "execution_count": 81,
   "metadata": {
    "execution": {
     "iopub.execute_input": "2021-06-03T22:51:42.143978Z",
     "iopub.status.busy": "2021-06-03T22:51:42.143478Z",
     "iopub.status.idle": "2021-06-03T22:51:42.161163Z",
     "shell.execute_reply": "2021-06-03T22:51:42.159728Z",
     "shell.execute_reply.started": "2021-06-03T22:51:42.143945Z"
    }
   },
   "outputs": [
    {
     "data": {
      "text/plain": [
       "0    549\n",
       "1    342\n",
       "Name: Survived, dtype: int64"
      ]
     },
     "execution_count": 81,
     "metadata": {},
     "output_type": "execute_result"
    }
   ],
   "source": [
    "train_data.Survived .value_counts()  "
   ]
  },
  {
   "cell_type": "code",
   "execution_count": 82,
   "metadata": {
    "execution": {
     "iopub.execute_input": "2021-06-03T22:51:42.164844Z",
     "iopub.status.busy": "2021-06-03T22:51:42.164357Z",
     "iopub.status.idle": "2021-06-03T22:51:42.178158Z",
     "shell.execute_reply": "2021-06-03T22:51:42.177168Z",
     "shell.execute_reply.started": "2021-06-03T22:51:42.164797Z"
    }
   },
   "outputs": [
    {
     "data": {
      "text/plain": [
       "3    491\n",
       "1    216\n",
       "2    184\n",
       "Name: Pclass, dtype: int64"
      ]
     },
     "execution_count": 82,
     "metadata": {},
     "output_type": "execute_result"
    }
   ],
   "source": [
    "train_data.Pclass.value_counts() "
   ]
  },
  {
   "cell_type": "code",
   "execution_count": 83,
   "metadata": {
    "execution": {
     "iopub.execute_input": "2021-06-03T22:51:42.181096Z",
     "iopub.status.busy": "2021-06-03T22:51:42.180737Z",
     "iopub.status.idle": "2021-06-03T22:51:42.196765Z",
     "shell.execute_reply": "2021-06-03T22:51:42.195699Z",
     "shell.execute_reply.started": "2021-06-03T22:51:42.181061Z"
    }
   },
   "outputs": [
    {
     "data": {
      "text/plain": [
       "24.00    30\n",
       "22.00    27\n",
       "18.00    26\n",
       "19.00    25\n",
       "30.00    25\n",
       "         ..\n",
       "55.50     1\n",
       "70.50     1\n",
       "66.00     1\n",
       "23.50     1\n",
       "0.42      1\n",
       "Name: Age, Length: 88, dtype: int64"
      ]
     },
     "execution_count": 83,
     "metadata": {},
     "output_type": "execute_result"
    }
   ],
   "source": [
    "train_data.Age.value_counts()"
   ]
  },
  {
   "cell_type": "markdown",
   "metadata": {},
   "source": [
    "The Age attribute have many unique values and when we need to deal with this  column we need more preprocessing operations so, i will drop this column."
   ]
  },
  {
   "cell_type": "code",
   "execution_count": 84,
   "metadata": {
    "execution": {
     "iopub.execute_input": "2021-06-03T22:51:42.198979Z",
     "iopub.status.busy": "2021-06-03T22:51:42.198378Z",
     "iopub.status.idle": "2021-06-03T22:51:42.216417Z",
     "shell.execute_reply": "2021-06-03T22:51:42.215615Z",
     "shell.execute_reply.started": "2021-06-03T22:51:42.198931Z"
    }
   },
   "outputs": [
    {
     "data": {
      "text/plain": [
       "McCarthy, Mr. Timothy J                        1\n",
       "Hawksford, Mr. Walter James                    1\n",
       "Isham, Miss. Ann Elizabeth                     1\n",
       "Baclini, Mrs. Solomon (Latifa Qurban)          1\n",
       "Ekstrom, Mr. Johan                             1\n",
       "                                              ..\n",
       "Abelson, Mr. Samuel                            1\n",
       "Harris, Mr. Henry Birkhardt                    1\n",
       "Kalvik, Mr. Johannes Halvorsen                 1\n",
       "Palsson, Mrs. Nils (Alma Cornelia Berglund)    1\n",
       "Bourke, Miss. Mary                             1\n",
       "Name: Name, Length: 891, dtype: int64"
      ]
     },
     "execution_count": 84,
     "metadata": {},
     "output_type": "execute_result"
    }
   ],
   "source": [
    "train_data.Name.value_counts()"
   ]
  },
  {
   "cell_type": "markdown",
   "metadata": {},
   "source": [
    "The Name attribute have many unique values and when we need to deal with this  column we need more preprocessing operations so, i will drop this column."
   ]
  },
  {
   "cell_type": "code",
   "execution_count": 85,
   "metadata": {
    "execution": {
     "iopub.execute_input": "2021-06-03T22:51:42.217950Z",
     "iopub.status.busy": "2021-06-03T22:51:42.217468Z",
     "iopub.status.idle": "2021-06-03T22:51:42.225443Z",
     "shell.execute_reply": "2021-06-03T22:51:42.224751Z",
     "shell.execute_reply.started": "2021-06-03T22:51:42.217917Z"
    }
   },
   "outputs": [
    {
     "data": {
      "text/plain": [
       "0    608\n",
       "1    209\n",
       "2     28\n",
       "4     18\n",
       "3     16\n",
       "8      7\n",
       "5      5\n",
       "Name: SibSp, dtype: int64"
      ]
     },
     "execution_count": 85,
     "metadata": {},
     "output_type": "execute_result"
    }
   ],
   "source": [
    "train_data.SibSp.value_counts()"
   ]
  },
  {
   "cell_type": "code",
   "execution_count": 86,
   "metadata": {
    "execution": {
     "iopub.execute_input": "2021-06-03T22:51:42.226847Z",
     "iopub.status.busy": "2021-06-03T22:51:42.226433Z",
     "iopub.status.idle": "2021-06-03T22:51:42.242474Z",
     "shell.execute_reply": "2021-06-03T22:51:42.241691Z",
     "shell.execute_reply.started": "2021-06-03T22:51:42.226818Z"
    }
   },
   "outputs": [
    {
     "data": {
      "text/plain": [
       "0    678\n",
       "1    118\n",
       "2     80\n",
       "5      5\n",
       "3      5\n",
       "4      4\n",
       "6      1\n",
       "Name: Parch, dtype: int64"
      ]
     },
     "execution_count": 86,
     "metadata": {},
     "output_type": "execute_result"
    }
   ],
   "source": [
    "train_data.Parch.value_counts()"
   ]
  },
  {
   "cell_type": "code",
   "execution_count": 87,
   "metadata": {
    "execution": {
     "iopub.execute_input": "2021-06-03T22:51:42.244218Z",
     "iopub.status.busy": "2021-06-03T22:51:42.243760Z",
     "iopub.status.idle": "2021-06-03T22:51:42.257543Z",
     "shell.execute_reply": "2021-06-03T22:51:42.256388Z",
     "shell.execute_reply.started": "2021-06-03T22:51:42.244184Z"
    }
   },
   "outputs": [
    {
     "data": {
      "text/plain": [
       "male      577\n",
       "female    314\n",
       "Name: Sex, dtype: int64"
      ]
     },
     "execution_count": 87,
     "metadata": {},
     "output_type": "execute_result"
    }
   ],
   "source": [
    "train_data.Sex.value_counts()"
   ]
  },
  {
   "cell_type": "code",
   "execution_count": 88,
   "metadata": {
    "execution": {
     "iopub.execute_input": "2021-06-03T22:51:42.261314Z",
     "iopub.status.busy": "2021-06-03T22:51:42.260987Z",
     "iopub.status.idle": "2021-06-03T22:51:42.275556Z",
     "shell.execute_reply": "2021-06-03T22:51:42.274699Z",
     "shell.execute_reply.started": "2021-06-03T22:51:42.261283Z"
    }
   },
   "outputs": [
    {
     "data": {
      "text/plain": [
       "347082      7\n",
       "1601        7\n",
       "CA. 2343    7\n",
       "CA 2144     6\n",
       "3101295     6\n",
       "           ..\n",
       "11769       1\n",
       "8471        1\n",
       "111428      1\n",
       "347074      1\n",
       "111320      1\n",
       "Name: Ticket, Length: 681, dtype: int64"
      ]
     },
     "execution_count": 88,
     "metadata": {},
     "output_type": "execute_result"
    }
   ],
   "source": [
    "train_data.Ticket.value_counts()"
   ]
  },
  {
   "cell_type": "markdown",
   "metadata": {},
   "source": [
    "The Ticket attribute have many unique values and when we need to deal with this  column we need more preprocessing operations so, i will drop this column."
   ]
  },
  {
   "cell_type": "code",
   "execution_count": 89,
   "metadata": {
    "execution": {
     "iopub.execute_input": "2021-06-03T22:51:42.277321Z",
     "iopub.status.busy": "2021-06-03T22:51:42.276906Z",
     "iopub.status.idle": "2021-06-03T22:51:42.288666Z",
     "shell.execute_reply": "2021-06-03T22:51:42.287877Z",
     "shell.execute_reply.started": "2021-06-03T22:51:42.277292Z"
    }
   },
   "outputs": [
    {
     "data": {
      "text/plain": [
       "8.0500     43\n",
       "13.0000    42\n",
       "7.8958     38\n",
       "7.7500     34\n",
       "26.0000    31\n",
       "           ..\n",
       "8.4583      1\n",
       "9.8375      1\n",
       "8.3625      1\n",
       "14.1083     1\n",
       "17.4000     1\n",
       "Name: Fare, Length: 248, dtype: int64"
      ]
     },
     "execution_count": 89,
     "metadata": {},
     "output_type": "execute_result"
    }
   ],
   "source": [
    "train_data.Fare.value_counts()"
   ]
  },
  {
   "cell_type": "markdown",
   "metadata": {},
   "source": [
    "The Fare attribute have many unique values and when we need to deal with this  column we need more preprocessing operations so, i will drop this column."
   ]
  },
  {
   "cell_type": "code",
   "execution_count": 90,
   "metadata": {
    "execution": {
     "iopub.execute_input": "2021-06-03T22:51:42.290203Z",
     "iopub.status.busy": "2021-06-03T22:51:42.289814Z",
     "iopub.status.idle": "2021-06-03T22:51:42.299182Z",
     "shell.execute_reply": "2021-06-03T22:51:42.298175Z",
     "shell.execute_reply.started": "2021-06-03T22:51:42.290175Z"
    }
   },
   "outputs": [
    {
     "data": {
      "text/plain": [
       "B96 B98        4\n",
       "C23 C25 C27    4\n",
       "G6             4\n",
       "F33            3\n",
       "E101           3\n",
       "              ..\n",
       "A10            1\n",
       "C87            1\n",
       "C103           1\n",
       "B79            1\n",
       "C70            1\n",
       "Name: Cabin, Length: 147, dtype: int64"
      ]
     },
     "execution_count": 90,
     "metadata": {},
     "output_type": "execute_result"
    }
   ],
   "source": [
    "train_data.Cabin.value_counts()"
   ]
  },
  {
   "cell_type": "markdown",
   "metadata": {},
   "source": [
    "The Cabin attribute have many unique values and when we need to deal with this  column we need more preprocessing operations so, i will drop this column."
   ]
  },
  {
   "cell_type": "code",
   "execution_count": 91,
   "metadata": {
    "execution": {
     "iopub.execute_input": "2021-06-03T22:51:42.300912Z",
     "iopub.status.busy": "2021-06-03T22:51:42.300442Z",
     "iopub.status.idle": "2021-06-03T22:51:42.314825Z",
     "shell.execute_reply": "2021-06-03T22:51:42.314095Z",
     "shell.execute_reply.started": "2021-06-03T22:51:42.300882Z"
    }
   },
   "outputs": [
    {
     "data": {
      "text/plain": [
       "S    644\n",
       "C    168\n",
       "Q     77\n",
       "Name: Embarked, dtype: int64"
      ]
     },
     "execution_count": 91,
     "metadata": {},
     "output_type": "execute_result"
    }
   ],
   "source": [
    "train_data.Embarked .value_counts()\n",
    " "
   ]
  },
  {
   "cell_type": "markdown",
   "metadata": {},
   "source": [
    "we see in above, we have in attributes( Name,Ticket,Age,Fare,Cabian)-> will drop \n"
   ]
  },
  {
   "cell_type": "markdown",
   "metadata": {},
   "source": [
    "# And to drop these atteributes :\n"
   ]
  },
  {
   "cell_type": "code",
   "execution_count": 92,
   "metadata": {},
   "outputs": [],
   "source": [
    "train_data.drop(['Cabin','Fare','Age','Ticket','Name'],inplace=True,axis=1)\n",
    "test_data.drop(['Cabin','Fare','Age','Ticket','Name'],inplace=True,axis=1)"
   ]
  },
  {
   "cell_type": "markdown",
   "metadata": {},
   "source": [
    "# The new Baseline is:"
   ]
  },
  {
   "cell_type": "code",
   "execution_count": 93,
   "metadata": {
    "execution": {
     "iopub.execute_input": "2021-06-03T22:51:42.332972Z",
     "iopub.status.busy": "2021-06-03T22:51:42.332415Z",
     "iopub.status.idle": "2021-06-03T22:51:42.358323Z",
     "shell.execute_reply": "2021-06-03T22:51:42.357247Z",
     "shell.execute_reply.started": "2021-06-03T22:51:42.332936Z"
    }
   },
   "outputs": [
    {
     "name": "stdout",
     "output_type": "stream",
     "text": [
      "<class 'pandas.core.frame.DataFrame'>\n",
      "RangeIndex: 891 entries, 0 to 890\n",
      "Data columns (total 7 columns):\n",
      " #   Column       Non-Null Count  Dtype \n",
      "---  ------       --------------  ----- \n",
      " 0   PassengerId  891 non-null    int64 \n",
      " 1   Survived     891 non-null    int64 \n",
      " 2   Pclass       891 non-null    int64 \n",
      " 3   Sex          891 non-null    object\n",
      " 4   SibSp        891 non-null    int64 \n",
      " 5   Parch        891 non-null    int64 \n",
      " 6   Embarked     889 non-null    object\n",
      "dtypes: int64(5), object(2)\n",
      "memory usage: 48.9+ KB\n",
      "<class 'pandas.core.frame.DataFrame'>\n",
      "RangeIndex: 418 entries, 0 to 417\n",
      "Data columns (total 6 columns):\n",
      " #   Column       Non-Null Count  Dtype \n",
      "---  ------       --------------  ----- \n",
      " 0   PassengerId  418 non-null    int64 \n",
      " 1   Pclass       418 non-null    int64 \n",
      " 2   Sex          418 non-null    object\n",
      " 3   SibSp        418 non-null    int64 \n",
      " 4   Parch        418 non-null    int64 \n",
      " 5   Embarked     418 non-null    object\n",
      "dtypes: int64(4), object(2)\n",
      "memory usage: 19.7+ KB\n"
     ]
    }
   ],
   "source": [
    "train_data.info()\n",
    "test_data.info()"
   ]
  },
  {
   "cell_type": "markdown",
   "metadata": {},
   "source": [
    "we see on above, The attribute(Embarked) have null valuse so, we need to fix it:"
   ]
  },
  {
   "cell_type": "code",
   "execution_count": 105,
   "metadata": {
    "execution": {
     "iopub.execute_input": "2021-06-03T22:51:42.373114Z",
     "iopub.status.busy": "2021-06-03T22:51:42.372711Z",
     "iopub.status.idle": "2021-06-03T22:51:42.401444Z",
     "shell.execute_reply": "2021-06-03T22:51:42.400618Z",
     "shell.execute_reply.started": "2021-06-03T22:51:42.373068Z"
    }
   },
   "outputs": [],
   "source": [
    "#Embarked null fix\n",
    "data = [train_data, test_data]\n",
    "\n",
    "for dataset in data:\n",
    "    dataset.Embarked = dataset.Embarked.fillna('S')"
   ]
  },
  {
   "cell_type": "code",
   "execution_count": 106,
   "metadata": {
    "scrolled": true
   },
   "outputs": [
    {
     "name": "stdout",
     "output_type": "stream",
     "text": [
      "<class 'pandas.core.frame.DataFrame'>\n",
      "RangeIndex: 891 entries, 0 to 890\n",
      "Data columns (total 7 columns):\n",
      " #   Column       Non-Null Count  Dtype\n",
      "---  ------       --------------  -----\n",
      " 0   PassengerId  891 non-null    int64\n",
      " 1   Survived     891 non-null    int64\n",
      " 2   Pclass       891 non-null    int64\n",
      " 3   Sex          891 non-null    int64\n",
      " 4   SibSp        891 non-null    int64\n",
      " 5   Parch        891 non-null    int64\n",
      " 6   Embarked     891 non-null    int64\n",
      "dtypes: int64(7)\n",
      "memory usage: 48.9 KB\n",
      "<class 'pandas.core.frame.DataFrame'>\n",
      "RangeIndex: 418 entries, 0 to 417\n",
      "Data columns (total 6 columns):\n",
      " #   Column       Non-Null Count  Dtype\n",
      "---  ------       --------------  -----\n",
      " 0   PassengerId  418 non-null    int64\n",
      " 1   Pclass       418 non-null    int64\n",
      " 2   Sex          418 non-null    int64\n",
      " 3   SibSp        418 non-null    int64\n",
      " 4   Parch        418 non-null    int64\n",
      " 5   Embarked     418 non-null    int64\n",
      "dtypes: int64(6)\n",
      "memory usage: 19.7 KB\n"
     ]
    }
   ],
   "source": [
    "train_data.info()\n",
    "test_data.info()"
   ]
  },
  {
   "cell_type": "markdown",
   "metadata": {},
   "source": [
    "Now we need to convert all objects and strings into numeric values:\n",
    "we have just 2 attributes (Sex and Embarked)"
   ]
  },
  {
   "cell_type": "code",
   "execution_count": 96,
   "metadata": {
    "execution": {
     "iopub.execute_input": "2021-06-03T22:51:42.403771Z",
     "iopub.status.busy": "2021-06-03T22:51:42.402934Z",
     "iopub.status.idle": "2021-06-03T22:51:42.411516Z",
     "shell.execute_reply": "2021-06-03T22:51:42.410538Z",
     "shell.execute_reply.started": "2021-06-03T22:51:42.403733Z"
    }
   },
   "outputs": [
    {
     "data": {
      "text/plain": [
       "male      577\n",
       "female    314\n",
       "Name: Sex, dtype: int64"
      ]
     },
     "execution_count": 96,
     "metadata": {},
     "output_type": "execute_result"
    }
   ],
   "source": [
    "train_data.Sex.value_counts()"
   ]
  },
  {
   "cell_type": "code",
   "execution_count": 97,
   "metadata": {
    "execution": {
     "iopub.execute_input": "2021-06-03T22:51:42.462783Z",
     "iopub.status.busy": "2021-06-03T22:51:42.462069Z",
     "iopub.status.idle": "2021-06-03T22:51:42.469945Z",
     "shell.execute_reply": "2021-06-03T22:51:42.468802Z",
     "shell.execute_reply.started": "2021-06-03T22:51:42.462750Z"
    }
   },
   "outputs": [
    {
     "data": {
      "text/plain": [
       "S    646\n",
       "C    168\n",
       "Q     77\n",
       "Name: Embarked, dtype: int64"
      ]
     },
     "execution_count": 97,
     "metadata": {},
     "output_type": "execute_result"
    }
   ],
   "source": [
    "train_data.Embarked.value_counts()"
   ]
  },
  {
   "cell_type": "code",
   "execution_count": 98,
   "metadata": {
    "execution": {
     "iopub.execute_input": "2021-06-03T22:51:42.471410Z",
     "iopub.status.busy": "2021-06-03T22:51:42.470961Z",
     "iopub.status.idle": "2021-06-03T22:51:42.487078Z",
     "shell.execute_reply": "2021-06-03T22:51:42.485671Z",
     "shell.execute_reply.started": "2021-06-03T22:51:42.471378Z"
    }
   },
   "outputs": [],
   "source": [
    "genderMap = {\"male\": 0, \"female\": 1}\n",
    "embarkedMap = {\"S\": 0, \"C\": 1, \"Q\":2}\n",
    "\n",
    "\n",
    "data = [train_data, test_data] \n",
    "\n",
    "for dataset in data:\n",
    "    dataset['Sex'] = dataset['Sex'].map(genderMap)\n",
    "    dataset['Embarked'] = dataset['Embarked'].map(embarkedMap)"
   ]
  },
  {
   "cell_type": "code",
   "execution_count": 99,
   "metadata": {},
   "outputs": [
    {
     "name": "stdout",
     "output_type": "stream",
     "text": [
      "<class 'pandas.core.frame.DataFrame'>\n",
      "RangeIndex: 891 entries, 0 to 890\n",
      "Data columns (total 7 columns):\n",
      " #   Column       Non-Null Count  Dtype\n",
      "---  ------       --------------  -----\n",
      " 0   PassengerId  891 non-null    int64\n",
      " 1   Survived     891 non-null    int64\n",
      " 2   Pclass       891 non-null    int64\n",
      " 3   Sex          891 non-null    int64\n",
      " 4   SibSp        891 non-null    int64\n",
      " 5   Parch        891 non-null    int64\n",
      " 6   Embarked     891 non-null    int64\n",
      "dtypes: int64(7)\n",
      "memory usage: 48.9 KB\n",
      "<class 'pandas.core.frame.DataFrame'>\n",
      "RangeIndex: 418 entries, 0 to 417\n",
      "Data columns (total 6 columns):\n",
      " #   Column       Non-Null Count  Dtype\n",
      "---  ------       --------------  -----\n",
      " 0   PassengerId  418 non-null    int64\n",
      " 1   Pclass       418 non-null    int64\n",
      " 2   Sex          418 non-null    int64\n",
      " 3   SibSp        418 non-null    int64\n",
      " 4   Parch        418 non-null    int64\n",
      " 5   Embarked     418 non-null    int64\n",
      "dtypes: int64(6)\n",
      "memory usage: 19.7 KB\n"
     ]
    }
   ],
   "source": [
    "train_data.info()\n",
    "test_data.info()"
   ]
  },
  {
   "cell_type": "markdown",
   "metadata": {},
   "source": [
    "# Select X's and Y's"
   ]
  },
  {
   "cell_type": "code",
   "execution_count": 107,
   "metadata": {},
   "outputs": [],
   "source": [
    "X_train=train_data.drop(['Survived','PassengerId'], axis=1)\n",
    "Y_train=train_data['Survived']"
   ]
  },
  {
   "cell_type": "code",
   "execution_count": 108,
   "metadata": {},
   "outputs": [],
   "source": [
    "X_test=test_data.drop('PassengerId', axis=1)"
   ]
  },
  {
   "cell_type": "markdown",
   "metadata": {},
   "source": [
    "# Select a model and train it:"
   ]
  },
  {
   "cell_type": "markdown",
   "metadata": {},
   "source": [
    "I will use Regression model:(i see this tutorial https://scikit-learn.org/stable/modules/generated/sklearn.linear_model.LogisticRegression.html)"
   ]
  },
  {
   "cell_type": "code",
   "execution_count": 112,
   "metadata": {},
   "outputs": [],
   "source": [
    "from sklearn.linear_model import LogisticRegression\n",
    "\n",
    "clf = LogisticRegression(random_state=0).fit(X_train, Y_train)\n",
    "\n",
    "\n",
    "Y_pred=clf.predict(X_test)"
   ]
  },
  {
   "cell_type": "code",
   "execution_count": 114,
   "metadata": {},
   "outputs": [
    {
     "name": "stdout",
     "output_type": "stream",
     "text": [
      "[0 1 0 0 1 0 1 0 1 0 0 0 1 0 1 1 0 0 1 1 0 0 1 0 1 0 1 0 0 0 0 0 1 1 0 0 1\n",
      " 1 0 0 0 0 0 1 1 0 0 0 1 1 0 0 1 1 0 0 0 0 0 1 0 0 0 1 0 1 1 0 0 1 1 0 1 0\n",
      " 1 0 0 1 0 1 0 0 0 0 0 0 1 1 1 0 1 0 1 0 0 0 1 0 1 0 1 0 0 0 1 0 0 0 0 0 0\n",
      " 1 1 1 1 0 0 1 0 1 1 0 1 0 0 1 0 1 0 0 0 0 1 0 0 0 0 0 1 0 0 1 0 0 0 0 0 0\n",
      " 0 0 1 0 0 1 0 0 1 1 0 1 1 0 1 0 0 1 0 0 1 1 0 0 0 0 0 1 1 0 1 1 0 0 1 0 1\n",
      " 0 1 0 0 0 0 0 0 0 0 0 0 1 0 1 1 0 0 1 0 0 1 0 1 0 0 0 0 1 0 0 1 0 1 0 1 0\n",
      " 1 0 1 1 0 1 0 0 0 1 0 0 0 0 0 0 1 1 1 1 0 0 0 0 1 0 1 1 1 0 0 0 0 0 0 0 1\n",
      " 0 0 0 1 1 0 0 0 0 1 0 0 0 1 1 0 1 0 0 0 0 1 0 1 1 1 0 0 0 0 0 0 1 0 0 0 0\n",
      " 1 0 0 0 0 0 0 0 1 1 0 0 0 1 0 0 0 1 1 1 0 0 0 0 0 0 0 0 1 0 1 0 0 0 1 0 0\n",
      " 1 0 0 0 0 0 0 0 0 0 1 0 1 0 1 0 1 1 0 0 0 1 0 1 0 0 1 0 1 1 0 1 1 0 1 1 0\n",
      " 0 1 0 0 1 1 1 0 0 0 0 0 1 1 0 1 0 0 0 0 0 1 0 0 0 1 0 1 0 0 1 0 1 0 0 0 0\n",
      " 0 1 1 1 1 1 0 1 0 0 0]\n"
     ]
    }
   ],
   "source": [
    "print(Y_pred)"
   ]
  },
  {
   "cell_type": "markdown",
   "metadata": {},
   "source": [
    "# Evaluation Model:"
   ]
  },
  {
   "cell_type": "code",
   "execution_count": 118,
   "metadata": {},
   "outputs": [
    {
     "name": "stdout",
     "output_type": "stream",
     "text": [
      "88.27\n"
     ]
    }
   ],
   "source": [
    "acc_logistic = round(clf.score(X_train, Y_train)*110, 2)\n",
    "\n",
    "print (acc_logistic)"
   ]
  },
  {
   "cell_type": "markdown",
   "metadata": {},
   "source": [
    "# submit to leaderboard:"
   ]
  },
  {
   "cell_type": "code",
   "execution_count": 119,
   "metadata": {},
   "outputs": [
    {
     "name": "stdout",
     "output_type": "stream",
     "text": [
      "Your submission was successfully saved!\n"
     ]
    }
   ],
   "source": [
    "output = pd.DataFrame({'PassengerId': test_data.PassengerId, 'Survived': Y_pred})\n",
    "output.to_csv('my_submission.csv', index=False)\n",
    "print(\"Your submission was successfully saved!\")"
   ]
  },
  {
   "cell_type": "code",
   "execution_count": null,
   "metadata": {},
   "outputs": [],
   "source": []
  }
 ],
 "metadata": {
  "kernelspec": {
   "display_name": "Python 3",
   "language": "python",
   "name": "python3"
  },
  "language_info": {
   "codemirror_mode": {
    "name": "ipython",
    "version": 3
   },
   "file_extension": ".py",
   "mimetype": "text/x-python",
   "name": "python",
   "nbconvert_exporter": "python",
   "pygments_lexer": "ipython3",
   "version": "3.8.5"
  }
 },
 "nbformat": 4,
 "nbformat_minor": 4
}
